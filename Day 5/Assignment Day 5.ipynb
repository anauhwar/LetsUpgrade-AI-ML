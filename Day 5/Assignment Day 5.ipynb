{
 "cells": [
  {
   "cell_type": "markdown",
   "metadata": {},
   "source": [
    "# Assignment Day 5\n",
    "## By Akash Nauhwar"
   ]
  },
  {
   "cell_type": "code",
   "execution_count": null,
   "metadata": {},
   "outputs": [],
   "source": []
  },
  {
   "cell_type": "markdown",
   "metadata": {},
   "source": [
    "### Question 1 :\n",
    "Write a Python program to find the first 20 non-even prime natural numbers."
   ]
  },
  {
   "cell_type": "code",
   "execution_count": 1,
   "metadata": {},
   "outputs": [
    {
     "name": "stdout",
     "output_type": "stream",
     "text": [
      "3 Non-Even Prime Natural Numbers\n",
      "5 Non-Even Prime Natural Numbers\n",
      "7 Non-Even Prime Natural Numbers\n",
      "11 Non-Even Prime Natural Numbers\n",
      "13 Non-Even Prime Natural Numbers\n",
      "17 Non-Even Prime Natural Numbers\n",
      "19 Non-Even Prime Natural Numbers\n"
     ]
    }
   ],
   "source": [
    "# non-even prime natural numbers\n",
    "for i in range(1,21):\n",
    "    if i % 2 != 0:\n",
    "        if i > 1:\n",
    "            for ir in range(2,i):\n",
    "                if (i % ir) == 0:\n",
    "                    break\n",
    "            else:\n",
    "                print(i,\"Non-Even Prime Natural Numbers\")"
   ]
  },
  {
   "cell_type": "code",
   "execution_count": null,
   "metadata": {},
   "outputs": [],
   "source": []
  },
  {
   "cell_type": "markdown",
   "metadata": {},
   "source": [
    "### Question 2 :\n",
    "Write a Python program to implement 15 functions of string.\n"
   ]
  },
  {
   "cell_type": "code",
   "execution_count": 2,
   "metadata": {},
   "outputs": [],
   "source": [
    "sttr = \"hey akash nauhwar here from ai-ml batch\" # main string"
   ]
  },
  {
   "cell_type": "code",
   "execution_count": 3,
   "metadata": {},
   "outputs": [
    {
     "name": "stdout",
     "output_type": "stream",
     "text": [
      "Hey akash nauhwar here from ai-ml batch\n"
     ]
    }
   ],
   "source": [
    "sttr_cap = sttr.capitalize() # capitalize first letter\n",
    "print(sttr_cap)"
   ]
  },
  {
   "cell_type": "code",
   "execution_count": 4,
   "metadata": {},
   "outputs": [
    {
     "name": "stdout",
     "output_type": "stream",
     "text": [
      "                              hey akash nauhwar here from ai-ml batch                               \n"
     ]
    }
   ],
   "source": [
    "sttr_center = sttr.center(100) # Returns a centered string\n",
    "print(sttr_center)"
   ]
  },
  {
   "cell_type": "code",
   "execution_count": 5,
   "metadata": {},
   "outputs": [
    {
     "name": "stdout",
     "output_type": "stream",
     "text": [
      "6\n"
     ]
    }
   ],
   "source": [
    "sttr_count = sttr.count(\"a\") # Returns the number of times a specified value occurs in a string\n",
    "print(sttr_count)"
   ]
  },
  {
   "cell_type": "code",
   "execution_count": 6,
   "metadata": {},
   "outputs": [
    {
     "name": "stdout",
     "output_type": "stream",
     "text": [
      "Hey Akash Nauhwar Here From Ai-Ml Batch\n"
     ]
    }
   ],
   "source": [
    "sttr_title = sttr.title() # Converts the first character of each word to upper case\n",
    "print(sttr_title)"
   ]
  },
  {
   "cell_type": "code",
   "execution_count": 7,
   "metadata": {},
   "outputs": [
    {
     "name": "stdout",
     "output_type": "stream",
     "text": [
      "18\n"
     ]
    }
   ],
   "source": [
    "sttr_find = sttr.find(\"here\") # Searches the string for a specified value and returns the position of where it was found\n",
    "print(sttr_find)"
   ]
  },
  {
   "cell_type": "code",
   "execution_count": 8,
   "metadata": {},
   "outputs": [
    {
     "name": "stdout",
     "output_type": "stream",
     "text": [
      "10\n"
     ]
    }
   ],
   "source": [
    "sttr_index = sttr.index(\"nauhwar\") # Searches the string for a specified value and returns the position of where it was found\n",
    "print(sttr_index)"
   ]
  },
  {
   "cell_type": "code",
   "execution_count": 9,
   "metadata": {},
   "outputs": [
    {
     "name": "stdout",
     "output_type": "stream",
     "text": [
      "False\n"
     ]
    }
   ],
   "source": [
    "sttr_isnum = sttr.isalnum() # Returns True if all characters in the string are alphanumeric\n",
    "print(sttr_isnum)"
   ]
  },
  {
   "cell_type": "code",
   "execution_count": 10,
   "metadata": {},
   "outputs": [
    {
     "name": "stdout",
     "output_type": "stream",
     "text": [
      "False\n"
     ]
    }
   ],
   "source": [
    "sttr_isalpha = sttr.isalpha() #Returns True if all characters in the string are in the alphabet\n",
    "print(sttr_isalpha)"
   ]
  },
  {
   "cell_type": "code",
   "execution_count": 11,
   "metadata": {},
   "outputs": [
    {
     "name": "stdout",
     "output_type": "stream",
     "text": [
      "False\n"
     ]
    }
   ],
   "source": [
    "sttr_isdecimal = sttr.isdecimal()# Returns True if all characters in the string are decimals\n",
    "print(sttr_isdecimal)"
   ]
  },
  {
   "cell_type": "code",
   "execution_count": 12,
   "metadata": {},
   "outputs": [
    {
     "name": "stdout",
     "output_type": "stream",
     "text": [
      "True\n"
     ]
    }
   ],
   "source": [
    "sttr_islower = sttr.islower() # Returns True if all characters in the string are lower case\n",
    "print(sttr_islower)"
   ]
  },
  {
   "cell_type": "code",
   "execution_count": 13,
   "metadata": {},
   "outputs": [
    {
     "name": "stdout",
     "output_type": "stream",
     "text": [
      "Hey akasH nauHwar Here from ai-ml batcH\n"
     ]
    }
   ],
   "source": [
    "sttr_replace = sttr.replace(\"h\",\"H\") # Returns a string where a specified value is replaced with a specified value\n",
    "print(sttr_replace)"
   ]
  },
  {
   "cell_type": "code",
   "execution_count": 14,
   "metadata": {},
   "outputs": [
    {
     "name": "stdout",
     "output_type": "stream",
     "text": [
      "HEY AKASH NAUHWAR HERE FROM AI-ML BATCH\n"
     ]
    }
   ],
   "source": [
    "sttr_upper = sttr.upper() # Converts a string into upper case\n",
    "print(sttr_upper)"
   ]
  },
  {
   "cell_type": "code",
   "execution_count": 15,
   "metadata": {},
   "outputs": [
    {
     "name": "stdout",
     "output_type": "stream",
     "text": [
      "['hey', 'akash', 'nauhwar', 'here', 'from', 'ai-ml', 'batch']\n"
     ]
    }
   ],
   "source": [
    "sttr_split = sttr.split() # Splits the string at the specified separator, and returns a list\n",
    "print(sttr_split)"
   ]
  },
  {
   "cell_type": "code",
   "execution_count": 16,
   "metadata": {},
   "outputs": [
    {
     "name": "stdout",
     "output_type": "stream",
     "text": [
      "False\n"
     ]
    }
   ],
   "source": [
    "sttr_startwith = sttr.startswith(\"akash\") # Returns true if the string starts with the specified value\n",
    "print(sttr_startwith)"
   ]
  },
  {
   "cell_type": "code",
   "execution_count": 17,
   "metadata": {},
   "outputs": [
    {
     "name": "stdout",
     "output_type": "stream",
     "text": [
      "HEY AKASH NAUHWAR HERE FROM AI-ML BATCH\n"
     ]
    }
   ],
   "source": [
    "sttr_swapcase = sttr.swapcase() # Swaps cases, lower case becomes upper case and vice versa\n",
    "print(sttr_swapcase)"
   ]
  },
  {
   "cell_type": "code",
   "execution_count": null,
   "metadata": {},
   "outputs": [],
   "source": []
  },
  {
   "cell_type": "markdown",
   "metadata": {},
   "source": [
    "### Question 3:\n",
    "Write a Python program to check if the given string is a Palindrome or Anagram or None of them.\n",
    "Display the message accordingly to the user."
   ]
  },
  {
   "cell_type": "code",
   "execution_count": 18,
   "metadata": {},
   "outputs": [
    {
     "name": "stdout",
     "output_type": "stream",
     "text": [
      "Please Enter first string: Madam\n",
      "Please Enter Second string: Madam\n",
      "Strings is Anagram\n"
     ]
    }
   ],
   "source": [
    "# checking whether string is Palindrome or Anagram\n",
    "\n",
    "str1 = input(\"Please Enter first string: \")\n",
    "str2 = input(\"Please Enter Second string: \")\n",
    "\n",
    "if str1 == str1[::-1] and str2 == str2[::-1]: # checking palindrome\n",
    "    print(\"String is Palindrome\")\n",
    "elif sorted(str1) == sorted(str2): # checking Anagram\n",
    "    print(\"Strings is Anagram\")\n",
    "else:\n",
    "    print(\"Strings is not Palindrome and Anagram\")\n"
   ]
  },
  {
   "cell_type": "code",
   "execution_count": null,
   "metadata": {},
   "outputs": [],
   "source": []
  },
  {
   "cell_type": "markdown",
   "metadata": {},
   "source": [
    "### Question 4:\n",
    "Write a Python's user defined function that removes all the additional characters from the string\n",
    "and converts it finally to lower case using built-in lower(). eg: If the string is __\"Dr. Darshan Ingle\n",
    "@AI-ML Trainer\"__, then the output be __\"drdarshaningleaimltrainer\"__."
   ]
  },
  {
   "cell_type": "code",
   "execution_count": 19,
   "metadata": {},
   "outputs": [
    {
     "name": "stdout",
     "output_type": "stream",
     "text": [
      "Please the string: Akash Nauhwar @  here from AI-ML Batch##\n",
      "akashnauhwarherefromaimlbatch\n"
     ]
    }
   ],
   "source": [
    "# removes all the additional characters from the string\n",
    "\n",
    "def removes_extra_characters(string): # user define function\n",
    "    new_str =\"\"\n",
    "    extra = \"qwertyuioplkjhgfdsazxcvbnm\"\n",
    "    string = string.lower()\n",
    "    string = string.replace(\" \",\"\")\n",
    "    for i in string:\n",
    "        if i in extra:\n",
    "            new_str = new_str + i\n",
    "    print(new_str)\n",
    "    \n",
    "\n",
    "a = input(\"Please the string: \")\n",
    "removes_extra_characters(a)"
   ]
  },
  {
   "cell_type": "code",
   "execution_count": null,
   "metadata": {},
   "outputs": [],
   "source": []
  }
 ],
 "metadata": {
  "kernelspec": {
   "display_name": "Python 3",
   "language": "python",
   "name": "python3"
  },
  "language_info": {
   "codemirror_mode": {
    "name": "ipython",
    "version": 3
   },
   "file_extension": ".py",
   "mimetype": "text/x-python",
   "name": "python",
   "nbconvert_exporter": "python",
   "pygments_lexer": "ipython3",
   "version": "3.7.6"
  },
  "toc": {
   "base_numbering": 1,
   "nav_menu": {},
   "number_sections": true,
   "sideBar": true,
   "skip_h1_title": false,
   "title_cell": "Table of Contents",
   "title_sidebar": "Contents",
   "toc_cell": false,
   "toc_position": {},
   "toc_section_display": true,
   "toc_window_display": false
  }
 },
 "nbformat": 4,
 "nbformat_minor": 4
}

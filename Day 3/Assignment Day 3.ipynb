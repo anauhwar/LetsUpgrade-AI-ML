{
 "cells": [
  {
   "cell_type": "markdown",
   "metadata": {},
   "source": [
    "# Assignment Day 3\n",
    "## By Akash Nauhwar"
   ]
  },
  {
   "cell_type": "markdown",
   "metadata": {},
   "source": [
    "### Question 1 :\n",
    "Write a program to subtract two complex numbers in Python."
   ]
  },
  {
   "cell_type": "code",
   "execution_count": 1,
   "metadata": {},
   "outputs": [
    {
     "name": "stdout",
     "output_type": "stream",
     "text": [
      "Enter first number: 100.5\n",
      "Enter Second number: 20.8\n",
      "Subtraction:  79.70\n"
     ]
    }
   ],
   "source": [
    "print(\"Please enter the Numbers\")\n",
    "a = float(input(\"Enter first number: \")) # number 1\n",
    "b = float(input(\"Enter Second number: \")) # number 2\n",
    "c = a-b # subtract\n",
    "c = \"{:.2f}\".format(c) # reduce the decimal point to 2 digit\n",
    "print(\"Subtraction: \",c) # result"
   ]
  },
  {
   "cell_type": "code",
   "execution_count": null,
   "metadata": {},
   "outputs": [],
   "source": []
  },
  {
   "cell_type": "markdown",
   "metadata": {},
   "source": [
    "### Question 2 :\n",
    "Write a program to find the fourth root of a number."
   ]
  },
  {
   "cell_type": "code",
   "execution_count": 2,
   "metadata": {},
   "outputs": [
    {
     "name": "stdout",
     "output_type": "stream",
     "text": [
      "Enter the number: \n",
      "4\n",
      "Fourth root of a number is:  256\n"
     ]
    }
   ],
   "source": [
    "print(\"Enter the number: \") # number\n",
    "n = int(input())\n",
    "print(\"Fourth root of a number is: \",n**4) # fourth root of a number"
   ]
  },
  {
   "cell_type": "code",
   "execution_count": null,
   "metadata": {},
   "outputs": [],
   "source": []
  },
  {
   "cell_type": "markdown",
   "metadata": {},
   "source": [
    "### Question 3:\n",
    "Write a program to swap two numbers in Python with the help of a temporary variable.\n"
   ]
  },
  {
   "cell_type": "code",
   "execution_count": 3,
   "metadata": {},
   "outputs": [
    {
     "name": "stdout",
     "output_type": "stream",
     "text": [
      "Please enter the Numbers\n",
      "Enter first number: 10\n",
      "Enter Second number: 20\n",
      "Number is Swapped\n",
      "first number is: 20 secound number is: 10\n"
     ]
    }
   ],
   "source": [
    "print(\"Please enter the Numbers\")\n",
    "a = int(input(\"Enter first number: \")) # number 1\n",
    "b = int(input(\"Enter Second number: \")) # number 2 \n",
    "temp = a # temp variable\n",
    "a = b  # swap\n",
    "b = temp # swap\n",
    "print(\"Number is Swapped\\nfirst number is:\",a,\"secound number is:\",b) # result"
   ]
  },
  {
   "cell_type": "code",
   "execution_count": null,
   "metadata": {},
   "outputs": [],
   "source": []
  },
  {
   "cell_type": "markdown",
   "metadata": {},
   "source": [
    "## Question 4:\n",
    "Write a program to swap two numbers in Python without using a temporary variable."
   ]
  },
  {
   "cell_type": "code",
   "execution_count": 4,
   "metadata": {},
   "outputs": [
    {
     "name": "stdout",
     "output_type": "stream",
     "text": [
      "Please enter the Numbers\n",
      "Enter first number: 50\n",
      "Enter Second number: 60\n",
      "Number is Swapped\n",
      "first number is: 60 secound number is: 50\n"
     ]
    }
   ],
   "source": [
    "print(\"Please enter the Numbers\")\n",
    "a = int(input(\"Enter first number: \")) # number 1\n",
    "b = int(input(\"Enter Second number: \")) # number 2\n",
    "a,b=b,a  # swap without temp\n",
    "print(\"Number is Swapped\\nfirst number is:\",a,\"secound number is:\",b) # result"
   ]
  },
  {
   "cell_type": "code",
   "execution_count": null,
   "metadata": {},
   "outputs": [],
   "source": []
  },
  {
   "cell_type": "markdown",
   "metadata": {},
   "source": [
    "### Question 5:\n",
    "Write a program to convert fahrenheit to kelvin and celsius both.\n"
   ]
  },
  {
   "cell_type": "code",
   "execution_count": 5,
   "metadata": {},
   "outputs": [
    {
     "name": "stdout",
     "output_type": "stream",
     "text": [
      "Please enter the temprate in Fahrenheit: 10\n",
      "Temperature in Kelvin ( K ):  261.2778\n",
      "Temperature in Celsius ( C ) -12.2222\n"
     ]
    }
   ],
   "source": [
    "temprature = float(input(\"Please enter the temprate in Fahrenheit: \")) # input in fahrenheit\n",
    "Kelvin = float(273.5 + ((temprature - 32.0) * (5.0/9.0))) # convet to kelvin\n",
    "Kelvin = \"{:.4f}\".format(Kelvin) # reduce the decimal to 4 digit\n",
    "print(\"Temperature in Kelvin ( K ): \",Kelvin) # \n",
    "Celsius = float(temprature - 32) * 5/9 # convet to Celsius\n",
    "Celsius = \"{:.4f}\".format(Celsius) # reduce the decimal to 4 digit\n",
    "print(\"Temperature in Celsius ( C )\",Celsius)"
   ]
  },
  {
   "cell_type": "code",
   "execution_count": null,
   "metadata": {},
   "outputs": [],
   "source": []
  },
  {
   "cell_type": "markdown",
   "metadata": {},
   "source": [
    "### Question 6:\n",
    "Write a program to demonstrate all the available data types in Python. Hint: Use type() function.\n"
   ]
  },
  {
   "cell_type": "code",
   "execution_count": 16,
   "metadata": {},
   "outputs": [
    {
     "data": {
      "text/plain": [
       "int"
      ]
     },
     "execution_count": 16,
     "metadata": {},
     "output_type": "execute_result"
    }
   ],
   "source": [
    "int_a = 2 # integer\n",
    "type(int_a)\n"
   ]
  },
  {
   "cell_type": "code",
   "execution_count": 17,
   "metadata": {},
   "outputs": [
    {
     "data": {
      "text/plain": [
       "float"
      ]
     },
     "execution_count": 17,
     "metadata": {},
     "output_type": "execute_result"
    }
   ],
   "source": [
    "flat_b = 2.2 # float\n",
    "type(flat_b)"
   ]
  },
  {
   "cell_type": "code",
   "execution_count": 18,
   "metadata": {},
   "outputs": [
    {
     "data": {
      "text/plain": [
       "str"
      ]
     },
     "execution_count": 18,
     "metadata": {},
     "output_type": "execute_result"
    }
   ],
   "source": [
    "char = \"Akash\" # string\n",
    "type(char)"
   ]
  },
  {
   "cell_type": "code",
   "execution_count": 19,
   "metadata": {},
   "outputs": [
    {
     "data": {
      "text/plain": [
       "bool"
      ]
     },
     "execution_count": 19,
     "metadata": {},
     "output_type": "execute_result"
    }
   ],
   "source": [
    "bool_b = True # Boolean \n",
    "type(bool_b)"
   ]
  },
  {
   "cell_type": "code",
   "execution_count": 20,
   "metadata": {},
   "outputs": [
    {
     "data": {
      "text/plain": [
       "list"
      ]
     },
     "execution_count": 20,
     "metadata": {},
     "output_type": "execute_result"
    }
   ],
   "source": [
    "lst = [10,11,12,\"Akash\",[5,6]] # list data type\n",
    "type(lst)"
   ]
  },
  {
   "cell_type": "code",
   "execution_count": 21,
   "metadata": {},
   "outputs": [
    {
     "data": {
      "text/plain": [
       "dict"
      ]
     },
     "execution_count": 21,
     "metadata": {},
     "output_type": "execute_result"
    }
   ],
   "source": [
    "dct = {\"Name\":\"Akash\",\"Age\":\"25\",\"email\":\"anauhwar@gmail.com\"} # Dictionary data type \n",
    "type(dct)"
   ]
  },
  {
   "cell_type": "code",
   "execution_count": 22,
   "metadata": {},
   "outputs": [
    {
     "data": {
      "text/plain": [
       "set"
      ]
     },
     "execution_count": 22,
     "metadata": {},
     "output_type": "execute_result"
    }
   ],
   "source": [
    "sts = {1,2,3,4,5,6,7,8,9} # Sets data type\n",
    "type(sts)"
   ]
  },
  {
   "cell_type": "code",
   "execution_count": 23,
   "metadata": {},
   "outputs": [
    {
     "data": {
      "text/plain": [
       "tuple"
      ]
     },
     "execution_count": 23,
     "metadata": {},
     "output_type": "execute_result"
    }
   ],
   "source": [
    "tup = (1,2,3,4,5,6,7,8,9) # tupple data type\n",
    "type(tup)"
   ]
  },
  {
   "cell_type": "code",
   "execution_count": null,
   "metadata": {},
   "outputs": [],
   "source": []
  },
  {
   "cell_type": "markdown",
   "metadata": {},
   "source": [
    "### Question 7:\n",
    "Create a Markdown cell in jupyter and list the steps discussed in the session by Dr. Darshan\n",
    "Ingle sir to create Github profile and upload Githubs Assignment link."
   ]
  },
  {
   "cell_type": "markdown",
   "metadata": {},
   "source": [
    "### Steps to  to create Github profile and upload Githubs Assignment link.\n",
    "\n",
    "*    <b> Step 1:</b> Create Github account and sign in to Github account.\n",
    "*     <b>Step 2:</b> Create a github public repositorie and name it <b>LetsUpgrade AI/ML</b>\n",
    "*     <b>Step 3:</b> Create folder every day and upload that folder in that LetsUpgrade AI/ML repositorie (for example DAY 3 folder ) and do this day wise manner.\n",
    "*    <b>Step 4:</b> Copy the url of the Folder of that day and paste in the Assignment Submission Form (Google Form) which will be mentioned in this section after the class.\n",
    "\n",
    "\n"
   ]
  },
  {
   "cell_type": "code",
   "execution_count": null,
   "metadata": {},
   "outputs": [],
   "source": []
  }
 ],
 "metadata": {
  "kernelspec": {
   "display_name": "Python 3",
   "language": "python",
   "name": "python3"
  },
  "language_info": {
   "codemirror_mode": {
    "name": "ipython",
    "version": 3
   },
   "file_extension": ".py",
   "mimetype": "text/x-python",
   "name": "python",
   "nbconvert_exporter": "python",
   "pygments_lexer": "ipython3",
   "version": "3.7.6"
  }
 },
 "nbformat": 4,
 "nbformat_minor": 4
}

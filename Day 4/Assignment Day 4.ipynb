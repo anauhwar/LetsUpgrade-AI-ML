{
 "cells": [
  {
   "cell_type": "markdown",
   "metadata": {},
   "source": [
    "# Assignment Day 4 \n",
    "## By Akash Nauhwar"
   ]
  },
  {
   "cell_type": "markdown",
   "metadata": {},
   "source": [
    "### Question 1 :\n",
    "Research on whether addition, subtraction, multiplication, division, floor division and modulo\n",
    "operations be performed on complex numbers. Based on your study, implement a Python\n",
    "program to demonstrate these operations.\n"
   ]
  },
  {
   "cell_type": "markdown",
   "metadata": {},
   "source": [
    "__Ans)__\n",
    "On complex number we can perform addition, subtraction, multiplication, division. But we can not perform floor division and modulo operations.Because neither modulo nor floor division can accept a complex number as an operand. Trying to use a complex number for floor division or modulo operations will raise a __TypeError.__"
   ]
  },
  {
   "cell_type": "code",
   "execution_count": 1,
   "metadata": {},
   "outputs": [
    {
     "name": "stdout",
     "output_type": "stream",
     "text": [
      "Complex Addition of two number: (50+100j)\n",
      "Complex subtraction of two number: (30+60j)\n",
      "Complex multiplication of two number: (-1200+1600j)\n",
      "Complex division of two number: (4+0j)\n"
     ]
    }
   ],
   "source": [
    "# complex number addition, subtraction, multiplication, division\n",
    "\n",
    "num1 = 40+80j #complex number 1\n",
    "num2 = 10+20j # complex number 2  \n",
    "\n",
    "addition = num1 + num2 # addition \n",
    "print(\"Complex Addition of two number:\",addition)\n",
    "subtraction = num1 - num2 # subtraction\n",
    "print(\"Complex subtraction of two number:\",subtraction)\n",
    "multiplication = num1 * num2 # multipication\n",
    "print(\"Complex multiplication of two number:\",multiplication)\n",
    "division = num1 / num2 # division\n",
    "print(\"Complex division of two number:\",division)"
   ]
  },
  {
   "cell_type": "code",
   "execution_count": null,
   "metadata": {},
   "outputs": [],
   "source": []
  },
  {
   "cell_type": "markdown",
   "metadata": {},
   "source": [
    "### Question 2 :\n",
    "Research on range() functions and its parameters. Create a markdown cell and write in your own\n",
    "words (no copy-paste from google please) what you understand about it. Implement a small\n",
    "program of your choice on the same."
   ]
  },
  {
   "cell_type": "markdown",
   "metadata": {},
   "source": [
    "__Ans)__ __range()__ function provide range of number for example range(0,10) will provide sequence of number from 0 to 10.range() havong starting from 0 by default, and increments by 1 (by default)\n",
    "\n",
    "syntex of range() function : range(start,stop,step)\n",
    "* start : starting point \n",
    "* stop : end point\n",
    "* step : (steps from how much you want to increment the number)"
   ]
  },
  {
   "cell_type": "code",
   "execution_count": 2,
   "metadata": {},
   "outputs": [
    {
     "name": "stdout",
     "output_type": "stream",
     "text": [
      "0\n",
      "2\n",
      "4\n",
      "6\n",
      "8\n"
     ]
    }
   ],
   "source": [
    "# printing number from 0 to 10 with interval of 2\n",
    "for i in range(0,10,2):\n",
    "    print(i)"
   ]
  },
  {
   "cell_type": "code",
   "execution_count": null,
   "metadata": {},
   "outputs": [],
   "source": []
  },
  {
   "cell_type": "markdown",
   "metadata": {},
   "source": [
    "### Question 3:\n",
    " Consider two numbers. Perform their subtraction and if the result of subtraction is greater than\n",
    "25, print their multiplication result else print their division result."
   ]
  },
  {
   "cell_type": "code",
   "execution_count": 3,
   "metadata": {},
   "outputs": [
    {
     "name": "stdout",
     "output_type": "stream",
     "text": [
      "Please enter the Numbers for subtraction\n",
      "Enter first number: 40\n",
      "Enter Second number: 90\n",
      "division result of two number: 0.4444444444444444\n"
     ]
    }
   ],
   "source": [
    "print(\"Please enter the Numbers for subtraction\")\n",
    "a = int(input(\"Enter first number: \")) # number 1\n",
    "b = int(input(\"Enter Second number: \")) # number 2 \n",
    "c = a - b\n",
    "if c > 25:\n",
    "    print(\"multiplication result of two number:\",a * b)\n",
    "else:\n",
    "    print(\"division result of two number:\",a / b)"
   ]
  },
  {
   "cell_type": "code",
   "execution_count": null,
   "metadata": {},
   "outputs": [],
   "source": []
  },
  {
   "cell_type": "markdown",
   "metadata": {},
   "source": [
    "### Question 4:\n",
    "Consider a list of 10 elements of integer values. If the number in the list is divisible by 2, print the\n",
    "result as \"square of that number minus 2\".\n"
   ]
  },
  {
   "cell_type": "code",
   "execution_count": 4,
   "metadata": {},
   "outputs": [
    {
     "name": "stdout",
     "output_type": "stream",
     "text": [
      "square of that number minus 2\n",
      "square of that number minus 2\n",
      "square of that number minus 2\n",
      "square of that number minus 2\n",
      "square of that number minus 2\n",
      "square of that number minus 2\n",
      "square of that number minus 2\n",
      "square of that number minus 2\n",
      "square of that number minus 2\n",
      "square of that number minus 2\n"
     ]
    }
   ],
   "source": [
    "lst = [10,20,30,40,50,60,70,80,90,100]  # list\n",
    "for i in lst:\n",
    "    if i % 2 == 0:\n",
    "        print(\"square of that number minus 2\")"
   ]
  },
  {
   "cell_type": "code",
   "execution_count": null,
   "metadata": {},
   "outputs": [],
   "source": []
  },
  {
   "cell_type": "markdown",
   "metadata": {},
   "source": [
    "### Question 5:\n",
    "Consider a list of 10 elements. Print all the elements in the list which are greater than 7 when that\n",
    "number is divided 2."
   ]
  },
  {
   "cell_type": "code",
   "execution_count": 5,
   "metadata": {},
   "outputs": [
    {
     "name": "stdout",
     "output_type": "stream",
     "text": [
      "60\n",
      "70\n",
      "80\n",
      "90\n",
      "100\n"
     ]
    }
   ],
   "source": [
    "ls = [1,2,3,4,5,60,70,80,90,100] # list\n",
    "for i in ls:\n",
    "    if i > 7 and i % 2 == 0:\n",
    "        print(i)"
   ]
  },
  {
   "cell_type": "code",
   "execution_count": null,
   "metadata": {},
   "outputs": [],
   "source": []
  }
 ],
 "metadata": {
  "kernelspec": {
   "display_name": "Python 3",
   "language": "python",
   "name": "python3"
  },
  "language_info": {
   "codemirror_mode": {
    "name": "ipython",
    "version": 3
   },
   "file_extension": ".py",
   "mimetype": "text/x-python",
   "name": "python",
   "nbconvert_exporter": "python",
   "pygments_lexer": "ipython3",
   "version": "3.7.6"
  }
 },
 "nbformat": 4,
 "nbformat_minor": 4
}

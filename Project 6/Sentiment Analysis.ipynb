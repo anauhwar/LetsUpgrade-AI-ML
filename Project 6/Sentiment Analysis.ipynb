{
 "cells": [
  {
   "cell_type": "markdown",
   "metadata": {},
   "source": [
    "# What is sentiment analysis?\n",
    "\n",
    "Sentiment analysis is the detection of attitudes. For example:\n",
    "\n",
    "* Movie: is this review positive or negative\n",
    "* Products: what do people think about the new iPhone\n",
    "* Public sentiment: how is consumer confidence, is despair increasing\n",
    "* Politics: what do people think about this candidate or issue\n",
    "* Prediction: predict election outcomes or market trends from sentiment\n",
    "\n",
    "We will retrieve tweets on a given topic and check how positive or negative are people's opinion.\n",
    "\n",
    "## Authenticate"
   ]
  },
  {
   "cell_type": "code",
   "execution_count": 1,
   "metadata": {},
   "outputs": [],
   "source": [
    "import numpy as np\n",
    "import pandas as pd\n",
    "import tweepy"
   ]
  },
  {
   "cell_type": "code",
   "execution_count": 2,
   "metadata": {},
   "outputs": [
    {
     "name": "stdout",
     "output_type": "stream",
     "text": [
      "ryi6W\n"
     ]
    }
   ],
   "source": [
    "with open('.credentials.py') as f:\n",
    "    exec(f.read())\n",
    "\n",
    "print(API_KEY[:5])"
   ]
  },
  {
   "cell_type": "code",
   "execution_count": 3,
   "metadata": {},
   "outputs": [
    {
     "data": {
      "text/plain": [
       "'A-mt'"
      ]
     },
     "execution_count": 3,
     "metadata": {},
     "output_type": "execute_result"
    }
   ],
   "source": [
    "# Authenticate\n",
    "auth = tweepy.OAuthHandler(API_KEY, API_SECRET)\n",
    "auth.set_access_token(ACCESS_TOKEN, ACCESS_TOKEN_SECRET)\n",
    "\n",
    "api = tweepy.API(auth)\n",
    "api.me().name"
   ]
  },
  {
   "cell_type": "markdown",
   "metadata": {},
   "source": [
    "## Retrieve tweets"
   ]
  },
  {
   "cell_type": "code",
   "execution_count": 4,
   "metadata": {},
   "outputs": [],
   "source": [
    "import re\n",
    "import csv"
   ]
  },
  {
   "cell_type": "code",
   "execution_count": 5,
   "metadata": {},
   "outputs": [
    {
     "name": "stdout",
     "output_type": "stream",
     "text": [
      "Topic to search about: biden\n",
      "Nuber of tweets to search: 1000\n"
     ]
    }
   ],
   "source": [
    "# Term to search and limit\n",
    "searchTerm = input(\"Topic to search about: \")\n",
    "nbTerm     = int(input(\"Nuber of tweets to search: \"))"
   ]
  },
  {
   "cell_type": "code",
   "execution_count": 6,
   "metadata": {},
   "outputs": [],
   "source": [
    "# Cleanup text\n",
    "def cleanTweet(txt):\n",
    "    txt = re.sub(\"(@[A-Za-z0-9]+)\"\n",
    "                +\"|([^0-9A-Za-z \\t]) \"\n",
    "                +\"| (\\w +:\\ / \\ / \\S +)\", \" \", txt)\n",
    "\n",
    "    return ' '.join(txt.split())"
   ]
  },
  {
   "cell_type": "code",
   "execution_count": 7,
   "metadata": {},
   "outputs": [],
   "source": [
    "# Search for tweets\n",
    "tweets = tweepy.Cursor(api.search, q=searchTerm, lang=\"en\") \\\n",
    "               .items(nbTerm)\n",
    "\n",
    "# Save to CSV\n",
    "csvFile   = open('results_' + searchTerm + '.csv', 'a')\n",
    "csvWriter = csv.writer(csvFile)\n",
    "\n",
    "for tweet in tweets:\n",
    "    csvWriter.writerow([cleanTweet(tweet.text).encode('utf-8')])\n",
    "\n",
    "csvFile.close()"
   ]
  },
  {
   "cell_type": "code",
   "execution_count": 8,
   "metadata": {},
   "outputs": [
    {
     "name": "stdout",
     "output_type": "stream",
     "text": [
      "1000 results_biden.csv\r\n"
     ]
    }
   ],
   "source": [
    "!wc -l result*.csv"
   ]
  },
  {
   "cell_type": "markdown",
   "metadata": {},
   "source": [
    "## Analyze sentiment"
   ]
  },
  {
   "cell_type": "code",
   "execution_count": 9,
   "metadata": {},
   "outputs": [],
   "source": [
    "from textblob import TextBlob"
   ]
  },
  {
   "cell_type": "code",
   "execution_count": 10,
   "metadata": {},
   "outputs": [],
   "source": [
    "csvFile = open('results_' + searchTerm + '.csv', 'r')\n",
    "reader  = csv.reader(csvFile)\n",
    "\n",
    "sentiment = {\n",
    "    'total'      : 0,\n",
    "    'pos_weak'   : 0,\n",
    "    'pos'        : 0,\n",
    "    'pos_strong' : 0,\n",
    "    'neg_weak'   : 0,\n",
    "    'neg'        : 0,\n",
    "    'neg_strong' : 0,\n",
    "    'neutral'    : 0\n",
    "}\n",
    "n = 0\n",
    "\n",
    "for row in reader:\n",
    "    text = eval(row[0]).decode('utf-8')\n",
    "\n",
    "    k = TextBlob(text).sentiment.polarity\n",
    "    sentiment['total'] += k    \n",
    "    n += 1\n",
    "\n",
    "    if   k == 0:                 sentiment['neutral']    += 1\n",
    "    elif k >  0   and k <= 0.3:  sentiment['pos_weak']   += 1\n",
    "    elif k >  0.3 and k <= 0.6:  sentiment['pos']        += 1\n",
    "    elif k >  0.6 and k <= 1.0:  sentiment['pos_strong'] += 1\n",
    "    elif k > -0.3 and k <= 0:    sentiment['neg_weak']   += 1\n",
    "    elif k > -0.6 and k <= -0.3: sentiment['neg']        += 1\n",
    "    elif k > -1   and k <= -0.6: sentiment['neg_strong'] += 1\n",
    "\n",
    "csvFile.close()"
   ]
  },
  {
   "cell_type": "code",
   "execution_count": 11,
   "metadata": {},
   "outputs": [
    {
     "data": {
      "text/plain": [
       "{'total': 0.021064642180735994,\n",
       " 'pos_weak': 0.119,\n",
       " 'pos': 0.086,\n",
       " 'pos_strong': 0.036,\n",
       " 'neg_weak': 0.293,\n",
       " 'neg': 0.036,\n",
       " 'neg_strong': 0.012,\n",
       " 'neutral': 0.415}"
      ]
     },
     "execution_count": 11,
     "metadata": {},
     "output_type": "execute_result"
    }
   ],
   "source": [
    "# Convert to percentages\n",
    "sentiment_avg = {}\n",
    "\n",
    "for k, val in sentiment.items():\n",
    "    sentiment_avg[k] = sentiment[k] / n\n",
    "\n",
    "sentiment_avg"
   ]
  },
  {
   "cell_type": "markdown",
   "metadata": {},
   "source": [
    "## Display report"
   ]
  },
  {
   "cell_type": "code",
   "execution_count": 12,
   "metadata": {},
   "outputs": [
    {
     "name": "stdout",
     "output_type": "stream",
     "text": [
      "How people are reacting about \"biden\" (based on 1000 tweets): \n",
      "Weakly Positive\n"
     ]
    }
   ],
   "source": [
    "title = ('How people are reacting about \"{:s}\"'\n",
    "          + ' (based on {:d} tweets): ').format(searchTerm, n)\n",
    "print(title)\n",
    "\n",
    "k = sentiment_avg['total']\n",
    "\n",
    "if   k == 0:                 print(\"Neutral\")\n",
    "elif k > 0    and k <= 0.3:  print(\"Weakly Positive\")\n",
    "elif k > 0.3  and k <= 0.6:  print(\"Positive\")\n",
    "elif k > 0.6  and k <= 1:    print(\"Strongly Positive\")\n",
    "elif k > -0.3 and k <= 0:    print(\"Weakly Negative\")\n",
    "elif k > -0.6 and k <= -0.3: print(\"Negative\")\n",
    "elif k > -1   and k <= -0.6: print(\"Strongly Negative\")"
   ]
  },
  {
   "cell_type": "code",
   "execution_count": 14,
   "metadata": {},
   "outputs": [],
   "source": [
    "import matplotlib.pyplot as plt"
   ]
  },
  {
   "cell_type": "code",
   "execution_count": 15,
   "metadata": {},
   "outputs": [],
   "source": [
    "labels = [\n",
    "    'Positive',\n",
    "    'Weakly Positive',\n",
    "    'Strongly Positive',\n",
    "    'Neutral',\n",
    "    'Negative',\n",
    "    'Weakly Negative',\n",
    "    'Strongly Negative'\n",
    "]\n",
    "sizes = [\n",
    "    sentiment_avg['pos'],\n",
    "    sentiment_avg['pos_weak'],\n",
    "    sentiment_avg['pos_strong'],\n",
    "    sentiment_avg['neutral'],\n",
    "    sentiment_avg['neg'],\n",
    "    sentiment_avg['neg_weak'],\n",
    "    sentiment_avg['neg_strong']\n",
    "]\n",
    "colors = [\n",
    "    'yellowgreen',\n",
    "    'lightgreen',\n",
    "    'darkgreen',\n",
    "    'gold',\n",
    "    'red',\n",
    "    'lightsalmon',\n",
    "    'darkred'\n",
    "]"
   ]
  },
  {
   "cell_type": "code",
   "execution_count": 16,
   "metadata": {},
   "outputs": [
    {
     "data": {
      "image/png": "[encoded data removed]",
      "text/plain": [
       "<Figure size 432x432 with 1 Axes>"
      ]
     },
     "metadata": {},
     "output_type": "display_data"
    }
   ],
   "source": [
    "plt.figure(figsize=(6,6))\n",
    "\n",
    "# Pie plot\n",
    "patches, texts = plt.pie(sizes, colors=colors,\n",
    "    startangle=90, normalize=False)\n",
    "\n",
    "# Legend\n",
    "labels_ = ['{:s} [{:.2f}%]'.format(l, sizes[i])\n",
    "           for i,l in enumerate(labels)]\n",
    "plt.legend(patches, labels_, loc='best')\n",
    "\n",
    "plt.title(title)\n",
    "plt.axis('equal')\n",
    "plt.tight_layout()\n",
    "plt.show()"
   ]
  }
 ],
 "metadata": {
  "kernelspec": {
   "display_name": "Python 3",
   "language": "python",
   "name": "python3"
  },
  "language_info": {
   "codemirror_mode": {
    "name": "ipython",
    "version": 3
   },
   "file_extension": ".py",
   "mimetype": "text/x-python",
   "name": "python",
   "nbconvert_exporter": "python",
   "pygments_lexer": "ipython3",
   "version": "3.7.6"
  }
 },
 "nbformat": 4,
 "nbformat_minor": 2
}
